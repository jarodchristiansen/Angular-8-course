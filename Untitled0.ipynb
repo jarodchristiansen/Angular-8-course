{
  "nbformat": 4,
  "nbformat_minor": 0,
  "metadata": {
    "colab": {
      "name": "Untitled0.ipynb",
      "provenance": [],
      "collapsed_sections": [],
      "authorship_tag": "ABX9TyP799gXy6lO8/iy1rs1yZcM",
      "include_colab_link": true
    },
    "kernelspec": {
      "name": "python3",
      "display_name": "Python 3"
    }
  },
  "cells": [
    {
      "cell_type": "markdown",
      "metadata": {
        "id": "view-in-github",
        "colab_type": "text"
      },
      "source": [
        "<a href=\"https://colab.research.google.com/github/jarodchristiansen/Angular-8-course/blob/master/Untitled0.ipynb\" target=\"_parent\"><img src=\"https://colab.research.google.com/assets/colab-badge.svg\" alt=\"Open In Colab\"/></a>"
      ]
    },
    {
      "cell_type": "code",
      "metadata": {
        "id": "6H33WCSQdatH",
        "colab_type": "code",
        "outputId": "e0ea1689-b951-4188-eefa-b2c841021cbb",
        "colab": {
          "base_uri": "https://localhost:8080/",
          "height": 228
        }
      },
      "source": [
        "!pip install bs4\n",
        "!pip install ordered-set"
      ],
      "execution_count": 0,
      "outputs": [
        {
          "output_type": "stream",
          "text": [
            "Requirement already satisfied: bs4 in /usr/local/lib/python3.6/dist-packages (0.0.1)\n",
            "Requirement already satisfied: beautifulsoup4 in /usr/local/lib/python3.6/dist-packages (from bs4) (4.6.3)\n",
            "Collecting ordered-set\n",
            "  Downloading https://files.pythonhosted.org/packages/89/5d/60db38c980730fc91a0a9cf4c2b932037eecfbd6926aa2ebf450247c0096/ordered-set-4.0.1.tar.gz\n",
            "Building wheels for collected packages: ordered-set\n",
            "  Building wheel for ordered-set (setup.py) ... \u001b[?25l\u001b[?25hdone\n",
            "  Created wheel for ordered-set: filename=ordered_set-4.0.1-py2.py3-none-any.whl size=8134 sha256=2357cd2d4902408be48017f92135f20ff468671752dc275652e731ec86ec5dbf\n",
            "  Stored in directory: /root/.cache/pip/wheels/eb/11/8a/6246914c93ebdbce5fb2145efa6aeb0f7677443eb91a6a6ca6\n",
            "Successfully built ordered-set\n",
            "Installing collected packages: ordered-set\n",
            "Successfully installed ordered-set-4.0.1\n"
          ],
          "name": "stdout"
        }
      ]
    },
    {
      "cell_type": "code",
      "metadata": {
        "id": "YJ_y88NgdHaO",
        "colab_type": "code",
        "colab": {}
      },
      "source": [
        "import pandas as pd\n",
        "import numpy as np\n",
        "import matplotlib.pyplot as plt\n",
        "import requests\n",
        "from bs4 import BeautifulSoup\n",
        "import re\n",
        "from ordered_set import OrderedSet"
      ],
      "execution_count": 0,
      "outputs": []
    },
    {
      "cell_type": "code",
      "metadata": {
        "id": "1aH-ZZEqdnXA",
        "colab_type": "code",
        "colab": {}
      },
      "source": [
        "og_data = pd.read_csv('Links.csv')"
      ],
      "execution_count": 0,
      "outputs": []
    },
    {
      "cell_type": "code",
      "metadata": {
        "id": "N2UCSIVQgLik",
        "colab_type": "code",
        "outputId": "4cba4819-279b-418d-b838-1b6426f67893",
        "colab": {
          "base_uri": "https://localhost:8080/",
          "height": 202
        }
      },
      "source": [
        "og_data"
      ],
      "execution_count": 0,
      "outputs": [
        {
          "output_type": "execute_result",
          "data": {
            "text/html": [
              "<div>\n",
              "<style scoped>\n",
              "    .dataframe tbody tr th:only-of-type {\n",
              "        vertical-align: middle;\n",
              "    }\n",
              "\n",
              "    .dataframe tbody tr th {\n",
              "        vertical-align: top;\n",
              "    }\n",
              "\n",
              "    .dataframe thead th {\n",
              "        text-align: right;\n",
              "    }\n",
              "</style>\n",
              "<table border=\"1\" class=\"dataframe\">\n",
              "  <thead>\n",
              "    <tr style=\"text-align: right;\">\n",
              "      <th></th>\n",
              "      <th>Source Page</th>\n",
              "      <th>Link To Find</th>\n",
              "    </tr>\n",
              "  </thead>\n",
              "  <tbody>\n",
              "    <tr>\n",
              "      <th>0</th>\n",
              "      <td>https://www.searchenginejournal.com/googles-co...</td>\n",
              "      <td>https://tshirt.searchenginejournal.com/?utm_so...</td>\n",
              "    </tr>\n",
              "    <tr>\n",
              "      <th>1</th>\n",
              "      <td>https://www.searchenginejournal.com/googles-co...</td>\n",
              "      <td>/category/marketing-thinktank-webinar/</td>\n",
              "    </tr>\n",
              "    <tr>\n",
              "      <th>2</th>\n",
              "      <td>https://en.wikipedia.org/wiki/Web_scraping</td>\n",
              "      <td>/wiki/Change_detection_and_notification</td>\n",
              "    </tr>\n",
              "    <tr>\n",
              "      <th>3</th>\n",
              "      <td>https://en.wikipedia.org/wiki/Web_scraping</td>\n",
              "      <td>/wiki/Document_Object_Model</td>\n",
              "    </tr>\n",
              "    <tr>\n",
              "      <th>4</th>\n",
              "      <td>https://www.hubspot.com/</td>\n",
              "      <td>https://www.hubspot.com/products/marketing</td>\n",
              "    </tr>\n",
              "  </tbody>\n",
              "</table>\n",
              "</div>"
            ],
            "text/plain": [
              "                                         Source Page                                       Link To Find\n",
              "0  https://www.searchenginejournal.com/googles-co...  https://tshirt.searchenginejournal.com/?utm_so...\n",
              "1  https://www.searchenginejournal.com/googles-co...             /category/marketing-thinktank-webinar/\n",
              "2         https://en.wikipedia.org/wiki/Web_scraping            /wiki/Change_detection_and_notification\n",
              "3         https://en.wikipedia.org/wiki/Web_scraping                        /wiki/Document_Object_Model\n",
              "4                           https://www.hubspot.com/         https://www.hubspot.com/products/marketing"
            ]
          },
          "metadata": {
            "tags": []
          },
          "execution_count": 4
        }
      ]
    },
    {
      "cell_type": "code",
      "metadata": {
        "id": "5blilqSFgMQM",
        "colab_type": "code",
        "colab": {}
      },
      "source": [
        "pages = og_data['Source Page']\n",
        "links = og_data['Link To Find']"
      ],
      "execution_count": 0,
      "outputs": []
    },
    {
      "cell_type": "code",
      "metadata": {
        "id": "iXDrd9FBgSLi",
        "colab_type": "code",
        "colab": {}
      },
      "source": [
        "pages = list(pages)\n",
        "links = list(links)"
      ],
      "execution_count": 0,
      "outputs": []
    },
    {
      "cell_type": "code",
      "metadata": {
        "id": "yn4tAK20hECz",
        "colab_type": "code",
        "colab": {}
      },
      "source": [
        "processed_links = []\n",
        " \n",
        "for link in links:\n",
        "       link = link.replace(\"http://\",\"\")\n",
        "       link = link.replace(\"https://\",\"\")\n",
        "       link = link.replace(\"www.\",\"\")\n",
        "       processed_links.append(link)"
      ],
      "execution_count": 0,
      "outputs": []
    },
    {
      "cell_type": "code",
      "metadata": {
        "id": "LI7yfug5hThN",
        "colab_type": "code",
        "outputId": "cf07daa2-1be0-4a82-9a2e-4eea233a6d30",
        "colab": {
          "base_uri": "https://localhost:8080/",
          "height": 104
        }
      },
      "source": [
        "processed_links"
      ],
      "execution_count": 0,
      "outputs": [
        {
          "output_type": "execute_result",
          "data": {
            "text/plain": [
              "['tshirt.searchenginejournal.com/?utm_source=website&utm_medium=nav-drop-down&utm_campaign=sej-nav-drop-down',\n",
              " '/category/marketing-thinktank-webinar/',\n",
              " '/wiki/Change_detection_and_notification',\n",
              " '/wiki/Document_Object_Model',\n",
              " 'hubspot.com/products/marketing']"
            ]
          },
          "metadata": {
            "tags": []
          },
          "execution_count": 8
        }
      ]
    },
    {
      "cell_type": "code",
      "metadata": {
        "id": "HKdy5pfegX0W",
        "colab_type": "code",
        "colab": {}
      },
      "source": [
        "matching = []\n",
        "page_data = []\n",
        "anchors = []\n",
        "index_holder = 0\n",
        "found = []\n",
        " \n",
        " \n",
        "for i in pages:\n",
        "  index = pages.index(i)\n",
        "  content = BeautifulSoup(requests.get(i).text)\n",
        "  raw_anchors = content.findAll('a')\n",
        "  link_to_match = processed_links[index_holder]\n",
        "  print(link_to_match)\n",
        "  index_holder += 1\n",
        " \n",
        "  for item in raw_anchors:\n",
        "  #anchors.append(item.get('href'))\n",
        "   link = item.get('href')\n",
        "   if link is not None:\n",
        "     m = link.find(link_to_match)\n",
        "     print(m,link_to_match)\n",
        "     if m >= 0:\n",
        "       found.append(link_to_match)"
      ],
      "execution_count": 0,
      "outputs": []
    },
    {
      "cell_type": "code",
      "metadata": {
        "id": "74ZsYEBUer3F",
        "colab_type": "code",
        "outputId": "181641e6-3fc2-461c-c503-b794ab767cc8",
        "colab": {
          "base_uri": "https://localhost:8080/",
          "height": 260
        }
      },
      "source": [
        "found"
      ],
      "execution_count": 0,
      "outputs": [
        {
          "output_type": "execute_result",
          "data": {
            "text/plain": [
              "['tshirt.searchenginejournal.com/?utm_source=website&utm_medium=nav-drop-down&utm_campaign=sej-nav-drop-down',\n",
              " '/category/marketing-thinktank-webinar/',\n",
              " '/category/marketing-thinktank-webinar/',\n",
              " '/wiki/Change_detection_and_notification',\n",
              " '/wiki/Document_Object_Model',\n",
              " '/wiki/Document_Object_Model',\n",
              " 'hubspot.com/products/marketing',\n",
              " 'hubspot.com/products/marketing',\n",
              " 'hubspot.com/products/marketing',\n",
              " 'hubspot.com/products/marketing',\n",
              " 'hubspot.com/products/marketing',\n",
              " 'hubspot.com/products/marketing',\n",
              " 'hubspot.com/products/marketing',\n",
              " 'hubspot.com/products/marketing']"
            ]
          },
          "metadata": {
            "tags": []
          },
          "execution_count": 103
        }
      ]
    },
    {
      "cell_type": "code",
      "metadata": {
        "id": "E8qjTQXEij4T",
        "colab_type": "code",
        "colab": {}
      },
      "source": [
        "data = pd.DataFrame()"
      ],
      "execution_count": 0,
      "outputs": []
    },
    {
      "cell_type": "code",
      "metadata": {
        "id": "pYIgjgt9syUC",
        "colab_type": "code",
        "colab": {}
      },
      "source": [
        "found = list(OrderedSet(found))"
      ],
      "execution_count": 0,
      "outputs": []
    },
    {
      "cell_type": "code",
      "metadata": {
        "id": "L3w-Sp9lnVrL",
        "colab_type": "code",
        "colab": {}
      },
      "source": [
        "data['Source Page'] = pages\n",
        "data['Link'] = processed_links\n",
        "data['Found'] = found"
      ],
      "execution_count": 0,
      "outputs": []
    },
    {
      "cell_type": "code",
      "metadata": {
        "id": "agjDBWmttDhQ",
        "colab_type": "code",
        "outputId": "9db3ffee-a81b-4003-d03c-503b2afca498",
        "colab": {
          "base_uri": "https://localhost:8080/",
          "height": 237
        }
      },
      "source": [
        "data"
      ],
      "execution_count": 0,
      "outputs": [
        {
          "output_type": "execute_result",
          "data": {
            "text/html": [
              "<div>\n",
              "<style scoped>\n",
              "    .dataframe tbody tr th:only-of-type {\n",
              "        vertical-align: middle;\n",
              "    }\n",
              "\n",
              "    .dataframe tbody tr th {\n",
              "        vertical-align: top;\n",
              "    }\n",
              "\n",
              "    .dataframe thead th {\n",
              "        text-align: right;\n",
              "    }\n",
              "</style>\n",
              "<table border=\"1\" class=\"dataframe\">\n",
              "  <thead>\n",
              "    <tr style=\"text-align: right;\">\n",
              "      <th></th>\n",
              "      <th>Source Page</th>\n",
              "      <th>Link</th>\n",
              "      <th>Found</th>\n",
              "    </tr>\n",
              "  </thead>\n",
              "  <tbody>\n",
              "    <tr>\n",
              "      <th>0</th>\n",
              "      <td>https://www.searchenginejournal.com/googles-co...</td>\n",
              "      <td>tshirt.searchenginejournal.com/?utm_source=web...</td>\n",
              "      <td>tshirt.searchenginejournal.com/?utm_source=web...</td>\n",
              "    </tr>\n",
              "    <tr>\n",
              "      <th>1</th>\n",
              "      <td>https://www.searchenginejournal.com/googles-co...</td>\n",
              "      <td>/category/marketing-thinktank-webinar/</td>\n",
              "      <td>/category/marketing-thinktank-webinar/</td>\n",
              "    </tr>\n",
              "    <tr>\n",
              "      <th>2</th>\n",
              "      <td>https://en.wikipedia.org/wiki/Web_scraping</td>\n",
              "      <td>/wiki/Change_detection_and_notification</td>\n",
              "      <td>/wiki/Change_detection_and_notification</td>\n",
              "    </tr>\n",
              "    <tr>\n",
              "      <th>3</th>\n",
              "      <td>https://en.wikipedia.org/wiki/Web_scraping</td>\n",
              "      <td>/wiki/Document_Object_Model</td>\n",
              "      <td>/wiki/Document_Object_Model</td>\n",
              "    </tr>\n",
              "    <tr>\n",
              "      <th>4</th>\n",
              "      <td>https://www.hubspot.com/</td>\n",
              "      <td>hubspot.com/products/marketing</td>\n",
              "      <td>hubspot.com/products/marketing</td>\n",
              "    </tr>\n",
              "  </tbody>\n",
              "</table>\n",
              "</div>"
            ],
            "text/plain": [
              "                                         Source Page  ...                                              Found\n",
              "0  https://www.searchenginejournal.com/googles-co...  ...  tshirt.searchenginejournal.com/?utm_source=web...\n",
              "1  https://www.searchenginejournal.com/googles-co...  ...             /category/marketing-thinktank-webinar/\n",
              "2         https://en.wikipedia.org/wiki/Web_scraping  ...            /wiki/Change_detection_and_notification\n",
              "3         https://en.wikipedia.org/wiki/Web_scraping  ...                        /wiki/Document_Object_Model\n",
              "4                           https://www.hubspot.com/  ...                     hubspot.com/products/marketing\n",
              "\n",
              "[5 rows x 3 columns]"
            ]
          },
          "metadata": {
            "tags": []
          },
          "execution_count": 108
        }
      ]
    },
    {
      "cell_type": "code",
      "metadata": {
        "id": "nCXkjzdStFgL",
        "colab_type": "code",
        "outputId": "fc423c5e-fed5-4b23-c95b-3c1545e901ee",
        "colab": {
          "base_uri": "https://localhost:8080/",
          "height": 35
        }
      },
      "source": [
        "difference = set(processed_links).symmetric_difference(set(found))\n",
        "list_difference = list(difference)\n",
        "\n",
        "print(list_difference)"
      ],
      "execution_count": 0,
      "outputs": [
        {
          "output_type": "stream",
          "text": [
            "[]\n"
          ],
          "name": "stdout"
        }
      ]
    },
    {
      "cell_type": "code",
      "metadata": {
        "id": "Beh6Y780vH2g",
        "colab_type": "code",
        "colab": {}
      },
      "source": [
        ""
      ],
      "execution_count": 0,
      "outputs": []
    }
  ]
}